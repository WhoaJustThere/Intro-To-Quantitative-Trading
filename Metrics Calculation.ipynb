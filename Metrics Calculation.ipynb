{
 "cells": [
  {
   "cell_type": "code",
   "execution_count": 1,
   "id": "038ffdfe",
   "metadata": {},
   "outputs": [],
   "source": [
    "import numpy as np\n",
    "import pandas as pd\n",
    "import yfinance as yf\n",
    "import matplotlib.pyplot as plt\n",
    "pd.options.mode.chained_assignment = None"
   ]
  },
  {
   "cell_type": "code",
   "execution_count": 7,
   "id": "90225a47",
   "metadata": {},
   "outputs": [],
   "source": [
    "def Returns(df):\n",
    "    \n",
    "    df[\"Returns\"] = (df[\"Close\"] - df[\"Open\"])/df[\"Open\"]\n",
    "    \n",
    "def Capital(df):\n",
    "    \n",
    "    df[\"Capital\"] = np.nan\n",
    "    df[\"Capital\"].iloc[0] = 100000 * (1 + df[\"Returns\"].iloc[0])\n",
    "    for i in range(1, len(df)):\n",
    "        df[\"Capital\"].iloc[i] = df[\"Capital\"].iloc[i - 1] * (1 + df[\"Returns\"].iloc[i])\n",
    "        \n",
    "def SharpeRatio(df):\n",
    "    \n",
    "    rfr = 0.06\n",
    "    return  (252 * (df[\"Returns\"].mean()) - rfr )/(np.sqrt(252) * df[\"Returns\"].std())\n",
    "    \n",
    "def MaxDrawDown(df):\n",
    "    \n",
    "    max_peak_till_now = data[\"Capital\"].cummax()\n",
    "    drawdown = (data[\"Capital\"] - max_peak_till_now)/max_peak_till_now\n",
    "    return drawdown.min()\n",
    "\n",
    "def PrintMetrics(df):\n",
    "    Returns(df)\n",
    "    Capital(df)\n",
    "    print(\"Final Capital: {}\".format(df[\"Capital\"].iloc[-1]))\n",
    "    print(\"Sharpe Ratio: {}\".format(SharpeRatio(df)))\n",
    "    print(\"Maximum Drawdown: {}%\".format(MaxDrawDown(df)*100))\n",
    "    "
   ]
  }
 ],
 "metadata": {
  "kernelspec": {
   "display_name": "Python 3 (ipykernel)",
   "language": "python",
   "name": "python3"
  },
  "language_info": {
   "codemirror_mode": {
    "name": "ipython",
    "version": 3
   },
   "file_extension": ".py",
   "mimetype": "text/x-python",
   "name": "python",
   "nbconvert_exporter": "python",
   "pygments_lexer": "ipython3",
   "version": "3.11.5"
  }
 },
 "nbformat": 4,
 "nbformat_minor": 5
}
